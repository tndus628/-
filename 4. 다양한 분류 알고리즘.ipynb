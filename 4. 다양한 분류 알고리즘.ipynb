{
  "nbformat": 4,
  "nbformat_minor": 0,
  "metadata": {
    "colab": {
      "provenance": [],
      "authorship_tag": "ABX9TyPfzcCW0sRnbwMr+x//yFNC"
    },
    "kernelspec": {
      "name": "python3",
      "display_name": "Python 3"
    },
    "language_info": {
      "name": "python"
    }
  },
  "cells": [
    {
      "cell_type": "markdown",
      "source": [
        "#4-1. 로지스틱 회귀"
      ],
      "metadata": {
        "id": "PHZQtGjfRVK3"
      }
    },
    {
      "cell_type": "code",
      "execution_count": 3,
      "metadata": {
        "id": "R0hRfxqiRQW_",
        "colab": {
          "base_uri": "https://localhost:8080/",
          "height": 206
        },
        "outputId": "903ab9e3-3885-4e15-bf31-32f8f81da851"
      },
      "outputs": [
        {
          "output_type": "execute_result",
          "data": {
            "text/plain": [
              "  Species  Weight  Length  Diagonal   Height   Width\n",
              "0   Bream   242.0    25.4      30.0  11.5200  4.0200\n",
              "1   Bream   290.0    26.3      31.2  12.4800  4.3056\n",
              "2   Bream   340.0    26.5      31.1  12.3778  4.6961\n",
              "3   Bream   363.0    29.0      33.5  12.7300  4.4555\n",
              "4   Bream   430.0    29.0      34.0  12.4440  5.1340"
            ],
            "text/html": [
              "\n",
              "  <div id=\"df-035fc2c6-8651-48bf-9f55-197d7a4b5b89\" class=\"colab-df-container\">\n",
              "    <div>\n",
              "<style scoped>\n",
              "    .dataframe tbody tr th:only-of-type {\n",
              "        vertical-align: middle;\n",
              "    }\n",
              "\n",
              "    .dataframe tbody tr th {\n",
              "        vertical-align: top;\n",
              "    }\n",
              "\n",
              "    .dataframe thead th {\n",
              "        text-align: right;\n",
              "    }\n",
              "</style>\n",
              "<table border=\"1\" class=\"dataframe\">\n",
              "  <thead>\n",
              "    <tr style=\"text-align: right;\">\n",
              "      <th></th>\n",
              "      <th>Species</th>\n",
              "      <th>Weight</th>\n",
              "      <th>Length</th>\n",
              "      <th>Diagonal</th>\n",
              "      <th>Height</th>\n",
              "      <th>Width</th>\n",
              "    </tr>\n",
              "  </thead>\n",
              "  <tbody>\n",
              "    <tr>\n",
              "      <th>0</th>\n",
              "      <td>Bream</td>\n",
              "      <td>242.0</td>\n",
              "      <td>25.4</td>\n",
              "      <td>30.0</td>\n",
              "      <td>11.5200</td>\n",
              "      <td>4.0200</td>\n",
              "    </tr>\n",
              "    <tr>\n",
              "      <th>1</th>\n",
              "      <td>Bream</td>\n",
              "      <td>290.0</td>\n",
              "      <td>26.3</td>\n",
              "      <td>31.2</td>\n",
              "      <td>12.4800</td>\n",
              "      <td>4.3056</td>\n",
              "    </tr>\n",
              "    <tr>\n",
              "      <th>2</th>\n",
              "      <td>Bream</td>\n",
              "      <td>340.0</td>\n",
              "      <td>26.5</td>\n",
              "      <td>31.1</td>\n",
              "      <td>12.3778</td>\n",
              "      <td>4.6961</td>\n",
              "    </tr>\n",
              "    <tr>\n",
              "      <th>3</th>\n",
              "      <td>Bream</td>\n",
              "      <td>363.0</td>\n",
              "      <td>29.0</td>\n",
              "      <td>33.5</td>\n",
              "      <td>12.7300</td>\n",
              "      <td>4.4555</td>\n",
              "    </tr>\n",
              "    <tr>\n",
              "      <th>4</th>\n",
              "      <td>Bream</td>\n",
              "      <td>430.0</td>\n",
              "      <td>29.0</td>\n",
              "      <td>34.0</td>\n",
              "      <td>12.4440</td>\n",
              "      <td>5.1340</td>\n",
              "    </tr>\n",
              "  </tbody>\n",
              "</table>\n",
              "</div>\n",
              "    <div class=\"colab-df-buttons\">\n",
              "\n",
              "  <div class=\"colab-df-container\">\n",
              "    <button class=\"colab-df-convert\" onclick=\"convertToInteractive('df-035fc2c6-8651-48bf-9f55-197d7a4b5b89')\"\n",
              "            title=\"Convert this dataframe to an interactive table.\"\n",
              "            style=\"display:none;\">\n",
              "\n",
              "  <svg xmlns=\"http://www.w3.org/2000/svg\" height=\"24px\" viewBox=\"0 -960 960 960\">\n",
              "    <path d=\"M120-120v-720h720v720H120Zm60-500h600v-160H180v160Zm220 220h160v-160H400v160Zm0 220h160v-160H400v160ZM180-400h160v-160H180v160Zm440 0h160v-160H620v160ZM180-180h160v-160H180v160Zm440 0h160v-160H620v160Z\"/>\n",
              "  </svg>\n",
              "    </button>\n",
              "\n",
              "  <style>\n",
              "    .colab-df-container {\n",
              "      display:flex;\n",
              "      gap: 12px;\n",
              "    }\n",
              "\n",
              "    .colab-df-convert {\n",
              "      background-color: #E8F0FE;\n",
              "      border: none;\n",
              "      border-radius: 50%;\n",
              "      cursor: pointer;\n",
              "      display: none;\n",
              "      fill: #1967D2;\n",
              "      height: 32px;\n",
              "      padding: 0 0 0 0;\n",
              "      width: 32px;\n",
              "    }\n",
              "\n",
              "    .colab-df-convert:hover {\n",
              "      background-color: #E2EBFA;\n",
              "      box-shadow: 0px 1px 2px rgba(60, 64, 67, 0.3), 0px 1px 3px 1px rgba(60, 64, 67, 0.15);\n",
              "      fill: #174EA6;\n",
              "    }\n",
              "\n",
              "    .colab-df-buttons div {\n",
              "      margin-bottom: 4px;\n",
              "    }\n",
              "\n",
              "    [theme=dark] .colab-df-convert {\n",
              "      background-color: #3B4455;\n",
              "      fill: #D2E3FC;\n",
              "    }\n",
              "\n",
              "    [theme=dark] .colab-df-convert:hover {\n",
              "      background-color: #434B5C;\n",
              "      box-shadow: 0px 1px 3px 1px rgba(0, 0, 0, 0.15);\n",
              "      filter: drop-shadow(0px 1px 2px rgba(0, 0, 0, 0.3));\n",
              "      fill: #FFFFFF;\n",
              "    }\n",
              "  </style>\n",
              "\n",
              "    <script>\n",
              "      const buttonEl =\n",
              "        document.querySelector('#df-035fc2c6-8651-48bf-9f55-197d7a4b5b89 button.colab-df-convert');\n",
              "      buttonEl.style.display =\n",
              "        google.colab.kernel.accessAllowed ? 'block' : 'none';\n",
              "\n",
              "      async function convertToInteractive(key) {\n",
              "        const element = document.querySelector('#df-035fc2c6-8651-48bf-9f55-197d7a4b5b89');\n",
              "        const dataTable =\n",
              "          await google.colab.kernel.invokeFunction('convertToInteractive',\n",
              "                                                    [key], {});\n",
              "        if (!dataTable) return;\n",
              "\n",
              "        const docLinkHtml = 'Like what you see? Visit the ' +\n",
              "          '<a target=\"_blank\" href=https://colab.research.google.com/notebooks/data_table.ipynb>data table notebook</a>'\n",
              "          + ' to learn more about interactive tables.';\n",
              "        element.innerHTML = '';\n",
              "        dataTable['output_type'] = 'display_data';\n",
              "        await google.colab.output.renderOutput(dataTable, element);\n",
              "        const docLink = document.createElement('div');\n",
              "        docLink.innerHTML = docLinkHtml;\n",
              "        element.appendChild(docLink);\n",
              "      }\n",
              "    </script>\n",
              "  </div>\n",
              "\n",
              "\n",
              "<div id=\"df-45ee6c61-413e-4136-836c-d756b3be43e7\">\n",
              "  <button class=\"colab-df-quickchart\" onclick=\"quickchart('df-45ee6c61-413e-4136-836c-d756b3be43e7')\"\n",
              "            title=\"Suggest charts\"\n",
              "            style=\"display:none;\">\n",
              "\n",
              "<svg xmlns=\"http://www.w3.org/2000/svg\" height=\"24px\"viewBox=\"0 0 24 24\"\n",
              "     width=\"24px\">\n",
              "    <g>\n",
              "        <path d=\"M19 3H5c-1.1 0-2 .9-2 2v14c0 1.1.9 2 2 2h14c1.1 0 2-.9 2-2V5c0-1.1-.9-2-2-2zM9 17H7v-7h2v7zm4 0h-2V7h2v10zm4 0h-2v-4h2v4z\"/>\n",
              "    </g>\n",
              "</svg>\n",
              "  </button>\n",
              "\n",
              "<style>\n",
              "  .colab-df-quickchart {\n",
              "      --bg-color: #E8F0FE;\n",
              "      --fill-color: #1967D2;\n",
              "      --hover-bg-color: #E2EBFA;\n",
              "      --hover-fill-color: #174EA6;\n",
              "      --disabled-fill-color: #AAA;\n",
              "      --disabled-bg-color: #DDD;\n",
              "  }\n",
              "\n",
              "  [theme=dark] .colab-df-quickchart {\n",
              "      --bg-color: #3B4455;\n",
              "      --fill-color: #D2E3FC;\n",
              "      --hover-bg-color: #434B5C;\n",
              "      --hover-fill-color: #FFFFFF;\n",
              "      --disabled-bg-color: #3B4455;\n",
              "      --disabled-fill-color: #666;\n",
              "  }\n",
              "\n",
              "  .colab-df-quickchart {\n",
              "    background-color: var(--bg-color);\n",
              "    border: none;\n",
              "    border-radius: 50%;\n",
              "    cursor: pointer;\n",
              "    display: none;\n",
              "    fill: var(--fill-color);\n",
              "    height: 32px;\n",
              "    padding: 0;\n",
              "    width: 32px;\n",
              "  }\n",
              "\n",
              "  .colab-df-quickchart:hover {\n",
              "    background-color: var(--hover-bg-color);\n",
              "    box-shadow: 0 1px 2px rgba(60, 64, 67, 0.3), 0 1px 3px 1px rgba(60, 64, 67, 0.15);\n",
              "    fill: var(--button-hover-fill-color);\n",
              "  }\n",
              "\n",
              "  .colab-df-quickchart-complete:disabled,\n",
              "  .colab-df-quickchart-complete:disabled:hover {\n",
              "    background-color: var(--disabled-bg-color);\n",
              "    fill: var(--disabled-fill-color);\n",
              "    box-shadow: none;\n",
              "  }\n",
              "\n",
              "  .colab-df-spinner {\n",
              "    border: 2px solid var(--fill-color);\n",
              "    border-color: transparent;\n",
              "    border-bottom-color: var(--fill-color);\n",
              "    animation:\n",
              "      spin 1s steps(1) infinite;\n",
              "  }\n",
              "\n",
              "  @keyframes spin {\n",
              "    0% {\n",
              "      border-color: transparent;\n",
              "      border-bottom-color: var(--fill-color);\n",
              "      border-left-color: var(--fill-color);\n",
              "    }\n",
              "    20% {\n",
              "      border-color: transparent;\n",
              "      border-left-color: var(--fill-color);\n",
              "      border-top-color: var(--fill-color);\n",
              "    }\n",
              "    30% {\n",
              "      border-color: transparent;\n",
              "      border-left-color: var(--fill-color);\n",
              "      border-top-color: var(--fill-color);\n",
              "      border-right-color: var(--fill-color);\n",
              "    }\n",
              "    40% {\n",
              "      border-color: transparent;\n",
              "      border-right-color: var(--fill-color);\n",
              "      border-top-color: var(--fill-color);\n",
              "    }\n",
              "    60% {\n",
              "      border-color: transparent;\n",
              "      border-right-color: var(--fill-color);\n",
              "    }\n",
              "    80% {\n",
              "      border-color: transparent;\n",
              "      border-right-color: var(--fill-color);\n",
              "      border-bottom-color: var(--fill-color);\n",
              "    }\n",
              "    90% {\n",
              "      border-color: transparent;\n",
              "      border-bottom-color: var(--fill-color);\n",
              "    }\n",
              "  }\n",
              "</style>\n",
              "\n",
              "  <script>\n",
              "    async function quickchart(key) {\n",
              "      const quickchartButtonEl =\n",
              "        document.querySelector('#' + key + ' button');\n",
              "      quickchartButtonEl.disabled = true;  // To prevent multiple clicks.\n",
              "      quickchartButtonEl.classList.add('colab-df-spinner');\n",
              "      try {\n",
              "        const charts = await google.colab.kernel.invokeFunction(\n",
              "            'suggestCharts', [key], {});\n",
              "      } catch (error) {\n",
              "        console.error('Error during call to suggestCharts:', error);\n",
              "      }\n",
              "      quickchartButtonEl.classList.remove('colab-df-spinner');\n",
              "      quickchartButtonEl.classList.add('colab-df-quickchart-complete');\n",
              "    }\n",
              "    (() => {\n",
              "      let quickchartButtonEl =\n",
              "        document.querySelector('#df-45ee6c61-413e-4136-836c-d756b3be43e7 button');\n",
              "      quickchartButtonEl.style.display =\n",
              "        google.colab.kernel.accessAllowed ? 'block' : 'none';\n",
              "    })();\n",
              "  </script>\n",
              "</div>\n",
              "\n",
              "    </div>\n",
              "  </div>\n"
            ],
            "application/vnd.google.colaboratory.intrinsic+json": {
              "type": "dataframe",
              "variable_name": "fish",
              "summary": "{\n  \"name\": \"fish\",\n  \"rows\": 159,\n  \"fields\": [\n    {\n      \"column\": \"Species\",\n      \"properties\": {\n        \"dtype\": \"category\",\n        \"num_unique_values\": 7,\n        \"samples\": [\n          \"Bream\",\n          \"Roach\",\n          \"Pike\"\n        ],\n        \"semantic_type\": \"\",\n        \"description\": \"\"\n      }\n    },\n    {\n      \"column\": \"Weight\",\n      \"properties\": {\n        \"dtype\": \"number\",\n        \"std\": 357.9783165508931,\n        \"min\": 0.0,\n        \"max\": 1650.0,\n        \"num_unique_values\": 101,\n        \"samples\": [\n          770.0,\n          51.5,\n          197.0\n        ],\n        \"semantic_type\": \"\",\n        \"description\": \"\"\n      }\n    },\n    {\n      \"column\": \"Length\",\n      \"properties\": {\n        \"dtype\": \"number\",\n        \"std\": 10.716328098884247,\n        \"min\": 8.4,\n        \"max\": 63.4,\n        \"num_unique_values\": 93,\n        \"samples\": [\n          14.7,\n          18.8,\n          19.6\n        ],\n        \"semantic_type\": \"\",\n        \"description\": \"\"\n      }\n    },\n    {\n      \"column\": \"Diagonal\",\n      \"properties\": {\n        \"dtype\": \"number\",\n        \"std\": 11.610245832690964,\n        \"min\": 8.8,\n        \"max\": 68.0,\n        \"num_unique_values\": 124,\n        \"samples\": [\n          39.2,\n          27.2,\n          23.1\n        ],\n        \"semantic_type\": \"\",\n        \"description\": \"\"\n      }\n    },\n    {\n      \"column\": \"Height\",\n      \"properties\": {\n        \"dtype\": \"number\",\n        \"std\": 4.286207619968867,\n        \"min\": 1.7284,\n        \"max\": 18.957,\n        \"num_unique_values\": 154,\n        \"samples\": [\n          15.438,\n          7.293,\n          2.8728\n        ],\n        \"semantic_type\": \"\",\n        \"description\": \"\"\n      }\n    },\n    {\n      \"column\": \"Width\",\n      \"properties\": {\n        \"dtype\": \"number\",\n        \"std\": 1.6858038699921671,\n        \"min\": 1.0476,\n        \"max\": 8.142,\n        \"num_unique_values\": 152,\n        \"samples\": [\n          3.1571,\n          1.3936,\n          3.6835\n        ],\n        \"semantic_type\": \"\",\n        \"description\": \"\"\n      }\n    }\n  ]\n}"
            }
          },
          "metadata": {},
          "execution_count": 3
        }
      ],
      "source": [
        "import pandas as pd\n",
        "fish = pd.read_csv('https://bit.ly//fish_csv')\n",
        "fish.head() #처음 5개 행 출력"
      ]
    },
    {
      "cell_type": "code",
      "source": [
        "print(pd.unique(fish['Species'])) #unique()함수는 고유한 값 추출"
      ],
      "metadata": {
        "colab": {
          "base_uri": "https://localhost:8080/"
        },
        "id": "P91DZtrc5Ek4",
        "outputId": "a84677f8-bda7-450f-d977-636690d1012d"
      },
      "execution_count": 4,
      "outputs": [
        {
          "output_type": "stream",
          "name": "stdout",
          "text": [
            "['Bream' 'Roach' 'Whitefish' 'Parkki' 'Perch' 'Pike' 'Smelt']\n"
          ]
        }
      ]
    },
    {
      "cell_type": "code",
      "source": [
        "fish_input = fish[['Weight', 'Length', 'Diagonal', 'Height','Width']].to_numpy()"
      ],
      "metadata": {
        "id": "T4yg8a816NXo"
      },
      "execution_count": 5,
      "outputs": []
    },
    {
      "cell_type": "markdown",
      "source": [
        "- 데이터프레임에서 여러 열을 선택하면 새로운 데이터프레임이 반환되므로 이를 to_numpy() 메서드를 사용해서 넘파이 배열로 바꾼다."
      ],
      "metadata": {
        "id": "Nau0QPPt7Um6"
      }
    },
    {
      "cell_type": "code",
      "source": [
        "print(fish_input[:5])"
      ],
      "metadata": {
        "colab": {
          "base_uri": "https://localhost:8080/"
        },
        "id": "WIbb_cMZ7AGL",
        "outputId": "5bc5b0f4-69d9-41bd-e372-6ec25a2392fb"
      },
      "execution_count": 6,
      "outputs": [
        {
          "output_type": "stream",
          "name": "stdout",
          "text": [
            "[[242.      25.4     30.      11.52     4.02  ]\n",
            " [290.      26.3     31.2     12.48     4.3056]\n",
            " [340.      26.5     31.1     12.3778   4.6961]\n",
            " [363.      29.      33.5     12.73     4.4555]\n",
            " [430.      29.      34.      12.444    5.134 ]]\n"
          ]
        }
      ]
    },
    {
      "cell_type": "code",
      "source": [
        "fish_target = fish['Species'].to_numpy()"
      ],
      "metadata": {
        "id": "3qdzPPgt7g_W"
      },
      "execution_count": 7,
      "outputs": []
    },
    {
      "cell_type": "code",
      "source": [
        "from sklearn.model_selection import train_test_split\n",
        "train_input, test_input, train_target, test_target = train_test_split(fish_input, fish_target, random_state= 42)"
      ],
      "metadata": {
        "id": "Unwq6C8X8F_r"
      },
      "execution_count": 8,
      "outputs": []
    },
    {
      "cell_type": "code",
      "source": [
        "from sklearn.preprocessing import StandardScaler\n",
        "ss = StandardScaler()\n",
        "ss.fit(train_input)\n",
        "train_scaled = ss.transform(train_input)\n",
        "test_scaled = ss.transform(test_input)"
      ],
      "metadata": {
        "id": "aCigfn5k8fWw"
      },
      "execution_count": 9,
      "outputs": []
    },
    {
      "cell_type": "code",
      "source": [
        "from sklearn.neighbors import KNeighborsClassifier\n",
        "kn = KNeighborsClassifier(n_neighbors=3)\n",
        "kn.fit(train_scaled, train_target)\n",
        "print(kn.score(train_scaled, train_target))\n",
        "print(kn.score(test_scaled, test_target))"
      ],
      "metadata": {
        "colab": {
          "base_uri": "https://localhost:8080/"
        },
        "id": "PUU_77da80DO",
        "outputId": "c1284fa6-9225-4c23-c166-e52fe57161f4"
      },
      "execution_count": 10,
      "outputs": [
        {
          "output_type": "stream",
          "name": "stdout",
          "text": [
            "0.8907563025210085\n",
            "0.85\n"
          ]
        }
      ]
    },
    {
      "cell_type": "markdown",
      "source": [
        "- 다중 분류: 타깃 데이터에 2개 이상 클래스가 포함된 문제"
      ],
      "metadata": {
        "id": "8ZGxDnh--P7A"
      }
    },
    {
      "cell_type": "code",
      "source": [
        "print(kn.classes_) #사이킷런 모델에 전달하여 알파벳 순으로 매겨진 타깃값"
      ],
      "metadata": {
        "colab": {
          "base_uri": "https://localhost:8080/"
        },
        "id": "uw3aCTLt92Vo",
        "outputId": "24eecda6-c165-4302-83d3-3af36d1d9095"
      },
      "execution_count": 11,
      "outputs": [
        {
          "output_type": "stream",
          "name": "stdout",
          "text": [
            "['Bream' 'Parkki' 'Perch' 'Pike' 'Roach' 'Smelt' 'Whitefish']\n"
          ]
        }
      ]
    },
    {
      "cell_type": "code",
      "source": [
        "print(kn.predict(test_scaled[:5]))"
      ],
      "metadata": {
        "colab": {
          "base_uri": "https://localhost:8080/"
        },
        "id": "IH27mFEO-vWJ",
        "outputId": "eca1db2f-f583-467a-cf0b-cbc3645f2494"
      },
      "execution_count": 12,
      "outputs": [
        {
          "output_type": "stream",
          "name": "stdout",
          "text": [
            "['Perch' 'Smelt' 'Pike' 'Perch' 'Perch']\n"
          ]
        }
      ]
    },
    {
      "cell_type": "code",
      "source": [
        "import numpy as np\n",
        "proba = kn.predict_proba(test_scaled[:5])\n",
        "print(np.round(proba, decimals = 4))"
      ],
      "metadata": {
        "colab": {
          "base_uri": "https://localhost:8080/"
        },
        "id": "AYARdVaV-41R",
        "outputId": "5ea4795c-0500-43da-fdfd-35a9067e9f9d"
      },
      "execution_count": 13,
      "outputs": [
        {
          "output_type": "stream",
          "name": "stdout",
          "text": [
            "[[0.     0.     1.     0.     0.     0.     0.    ]\n",
            " [0.     0.     0.     0.     0.     1.     0.    ]\n",
            " [0.     0.     0.     1.     0.     0.     0.    ]\n",
            " [0.     0.     0.6667 0.     0.3333 0.     0.    ]\n",
            " [0.     0.     0.6667 0.     0.3333 0.     0.    ]]\n"
          ]
        }
      ]
    },
    {
      "cell_type": "markdown",
      "source": [
        "- predict_proba() :클래스별 확률값을 반환, 출력 순서는 classes_와 동일\n",
        "- round(): 반올림하는데 dicimals 매개변수로 자릿수 지정 가능"
      ],
      "metadata": {
        "id": "WkGYsPWDAACY"
      }
    },
    {
      "cell_type": "code",
      "source": [
        "distances, indexes = kn.kneighbors(test_scaled[3:4])\n",
        "print(train_target[indexes])"
      ],
      "metadata": {
        "colab": {
          "base_uri": "https://localhost:8080/"
        },
        "id": "H496cX_C_npJ",
        "outputId": "1cde2529-5bf3-490c-ec31-b17f3659d3ae"
      },
      "execution_count": 14,
      "outputs": [
        {
          "output_type": "stream",
          "name": "stdout",
          "text": [
            "[['Roach' 'Perch' 'Perch']]\n"
          ]
        }
      ]
    },
    {
      "cell_type": "markdown",
      "source": [
        "##로지스틱 회귀\n",
        ": 분류모델, 선형회귀와 동일하게 선형방정식을 학습"
      ],
      "metadata": {
        "id": "80RZzJlxI9UU"
      }
    },
    {
      "cell_type": "markdown",
      "source": [
        "- 시그모이드 함수(로지스틱 함수)를 사용한다."
      ],
      "metadata": {
        "id": "_hkPczcnKQ3r"
      }
    },
    {
      "cell_type": "code",
      "source": [
        "import numpy as np\n",
        "import matplotlib.pyplot as plt\n",
        "z = np.arange(-5, 5, 0.1)\n",
        "phi = 1 / (1 + np.exp(-z))\n",
        "plt.plot(z,phi)\n",
        "plt.xlabel('z')\n",
        "plt.ylabel('phi')\n",
        "plt.show()"
      ],
      "metadata": {
        "colab": {
          "base_uri": "https://localhost:8080/",
          "height": 449
        },
        "id": "Lt_YsP02IcKL",
        "outputId": "360237e6-deb5-4874-b4d1-db91b5627a00"
      },
      "execution_count": 15,
      "outputs": [
        {
          "output_type": "display_data",
          "data": {
            "text/plain": [
              "<Figure size 640x480 with 1 Axes>"
            ],
            "image/png": "[encoded data removed]"
          },
          "metadata": {}
        }
      ]
    },
    {
      "cell_type": "markdown",
      "source": [
        "- 지수 함수 계산은 np.exp() 함수를 사용한다."
      ],
      "metadata": {
        "id": "IHuGPv8aNAv1"
      }
    },
    {
      "cell_type": "markdown",
      "source": [
        "###로지스틱 회귀로 이진 분류"
      ],
      "metadata": {
        "id": "IMud4fQptDJK"
      }
    },
    {
      "cell_type": "code",
      "source": [
        "char_arr = np.array(['A','B','C','D','E'])\n",
        "print(char_arr[[True, False, True, False, False]])"
      ],
      "metadata": {
        "colab": {
          "base_uri": "https://localhost:8080/"
        },
        "id": "CUqsKojlN0vY",
        "outputId": "929f53d9-f366-49c9-fc82-a915d24b7d61"
      },
      "execution_count": 16,
      "outputs": [
        {
          "output_type": "stream",
          "name": "stdout",
          "text": [
            "['A' 'C']\n"
          ]
        }
      ]
    },
    {
      "cell_type": "markdown",
      "source": [
        "- 불리언 인덱싱: True, False 값을 전달"
      ],
      "metadata": {
        "id": "MX0s7NAsiJDF"
      }
    },
    {
      "cell_type": "code",
      "source": [
        "bream_smelt_indexes = (train_target == 'Bream') | (train_target == 'Smelt')\n",
        "train_bream_smelt = train_scaled[bream_smelt_indexes]\n",
        "target_bream_smelt = train_target[bream_smelt_indexes]"
      ],
      "metadata": {
        "id": "m2LKQYUwf_1F"
      },
      "execution_count": 17,
      "outputs": []
    },
    {
      "cell_type": "markdown",
      "source": [
        "- 도미와 빙어 데이터만 골라낸다."
      ],
      "metadata": {
        "id": "1_25k9s8bIyV"
      }
    },
    {
      "cell_type": "code",
      "source": [
        "from sklearn.linear_model import LogisticRegression\n",
        "lr = LogisticRegression()\n",
        "lr.fit(train_bream_smelt, target_bream_smelt)\n",
        "print(lr.predict(train_bream_smelt[:5]))"
      ],
      "metadata": {
        "colab": {
          "base_uri": "https://localhost:8080/"
        },
        "id": "mbY2Fv26joCH",
        "outputId": "fe1f9754-1812-4d8d-cf7a-68089b8e1991"
      },
      "execution_count": 18,
      "outputs": [
        {
          "output_type": "stream",
          "name": "stdout",
          "text": [
            "['Bream' 'Smelt' 'Bream' 'Bream' 'Bream']\n"
          ]
        }
      ]
    },
    {
      "cell_type": "code",
      "source": [
        "print(lr.predict_proba(train_bream_smelt[:5]))"
      ],
      "metadata": {
        "colab": {
          "base_uri": "https://localhost:8080/"
        },
        "id": "qNFGmOkmkucL",
        "outputId": "189882e2-4adf-4b80-cd89-cb663bf545ef"
      },
      "execution_count": 19,
      "outputs": [
        {
          "output_type": "stream",
          "name": "stdout",
          "text": [
            "[[0.99760007 0.00239993]\n",
            " [0.02737325 0.97262675]\n",
            " [0.99486386 0.00513614]\n",
            " [0.98585047 0.01414953]\n",
            " [0.99767419 0.00232581]]\n"
          ]
        }
      ]
    },
    {
      "cell_type": "code",
      "source": [
        "print(lr.classes_)"
      ],
      "metadata": {
        "colab": {
          "base_uri": "https://localhost:8080/"
        },
        "id": "MMbDsggDmq1Y",
        "outputId": "493bb17a-1134-4050-9140-88f9d49d9a93"
      },
      "execution_count": 20,
      "outputs": [
        {
          "output_type": "stream",
          "name": "stdout",
          "text": [
            "['Bream' 'Smelt']\n"
          ]
        }
      ]
    },
    {
      "cell_type": "code",
      "source": [
        "print(lr.coef_, lr.intercept_)"
      ],
      "metadata": {
        "colab": {
          "base_uri": "https://localhost:8080/"
        },
        "id": "Q--MlVdCoxCN",
        "outputId": "95134433-c893-4b36-b8e2-593dae9606c6"
      },
      "execution_count": 21,
      "outputs": [
        {
          "output_type": "stream",
          "name": "stdout",
          "text": [
            "[[-0.40451732 -0.57582787 -0.66248158 -1.01329614 -0.73123131]] [-2.16172774]\n"
          ]
        }
      ]
    },
    {
      "cell_type": "code",
      "source": [
        "decisions = lr.decision_function(train_bream_smelt[:5]) #decision_function()는 양성 클래스에 대한 z값 계산\n",
        "print(decisions)"
      ],
      "metadata": {
        "colab": {
          "base_uri": "https://localhost:8080/"
        },
        "id": "GPmDAxfXpF_t",
        "outputId": "6f99ed02-e886-4e93-f5d2-273bd157ccaa"
      },
      "execution_count": 22,
      "outputs": [
        {
          "output_type": "stream",
          "name": "stdout",
          "text": [
            "[-6.02991358  3.57043428 -5.26630496 -4.24382314 -6.06135688]\n"
          ]
        }
      ]
    },
    {
      "cell_type": "code",
      "source": [
        "from scipy.special import expit\n",
        "print(expit(decisions))"
      ],
      "metadata": {
        "colab": {
          "base_uri": "https://localhost:8080/"
        },
        "id": "47p14VTIpVJv",
        "outputId": "d48c38e8-e6d6-47c9-8987-97796cc3c87b"
      },
      "execution_count": 23,
      "outputs": [
        {
          "output_type": "stream",
          "name": "stdout",
          "text": [
            "[0.00239993 0.97262675 0.00513614 0.01414953 0.00232581]\n"
          ]
        }
      ]
    },
    {
      "cell_type": "markdown",
      "source": [
        "- 사이파이 라이브러리에도 시그모이드 함수가 있는데 expit()으로 np.exp() 함수를 이용해서 계산하는 것 보다 편리하다.\n",
        "- 출력된 값은 predict_proba() 메서드 출력의 두 번째 열의 값과 동일하다. 즉, dicision_function() 메서드는 양성클래스에 대한 z값을 반환한다."
      ],
      "metadata": {
        "id": "2uzyX5T-q3ge"
      }
    },
    {
      "cell_type": "markdown",
      "source": [
        "###로지스틱 회귀로 다중 분류"
      ],
      "metadata": {
        "id": "dJtZyjbTtI_C"
      }
    },
    {
      "cell_type": "code",
      "source": [
        "lr = LogisticRegression(C=20, max_iter=1000)\n",
        "lr.fit(train_scaled, train_target)\n",
        "print(lr.score(train_scaled, train_target))\n",
        "print(lr.score(test_scaled, test_target))"
      ],
      "metadata": {
        "colab": {
          "base_uri": "https://localhost:8080/"
        },
        "id": "CmFX8i5sq2xH",
        "outputId": "e27de441-1ace-4a21-89f9-f0b8d0bff5e6"
      },
      "execution_count": 24,
      "outputs": [
        {
          "output_type": "stream",
          "name": "stdout",
          "text": [
            "0.9327731092436975\n",
            "0.925\n"
          ]
        }
      ]
    },
    {
      "cell_type": "markdown",
      "source": [
        "- LogisticRegression에서 규제를 제어하는 매개변수는 C이다.\n",
        "- 매개변수 c는 alpha와 반대로 alpha값이 작을수록 규제가 커진다.\n",
        "- C의 기본값은 1이다."
      ],
      "metadata": {
        "id": "okp-NONZaNzF"
      }
    },
    {
      "cell_type": "code",
      "source": [
        "print(lr.predict(test_scaled[:5]))"
      ],
      "metadata": {
        "colab": {
          "base_uri": "https://localhost:8080/"
        },
        "id": "U7omK8ukbRHJ",
        "outputId": "40372762-4c0b-4fb8-fe1a-2678fb52ba25"
      },
      "execution_count": 25,
      "outputs": [
        {
          "output_type": "stream",
          "name": "stdout",
          "text": [
            "['Perch' 'Smelt' 'Pike' 'Roach' 'Perch']\n"
          ]
        }
      ]
    },
    {
      "cell_type": "code",
      "source": [
        "proba = lr.predict_proba(test_scaled[:5])\n",
        "print(np.round(proba,decimals=3))"
      ],
      "metadata": {
        "colab": {
          "base_uri": "https://localhost:8080/"
        },
        "id": "oPngIE_CbaaB",
        "outputId": "fc4a9c26-4495-43f4-fd1e-467f5d5715a0"
      },
      "execution_count": 28,
      "outputs": [
        {
          "output_type": "stream",
          "name": "stdout",
          "text": [
            "[[0.    0.014 0.842 0.    0.135 0.007 0.003]\n",
            " [0.    0.003 0.044 0.    0.007 0.946 0.   ]\n",
            " [0.    0.    0.034 0.934 0.015 0.016 0.   ]\n",
            " [0.011 0.034 0.305 0.006 0.567 0.    0.076]\n",
            " [0.    0.    0.904 0.002 0.089 0.002 0.001]]\n"
          ]
        }
      ]
    },
    {
      "cell_type": "code",
      "source": [
        "print(lr.classes_)"
      ],
      "metadata": {
        "colab": {
          "base_uri": "https://localhost:8080/"
        },
        "id": "Y8Oz6SGKx4xR",
        "outputId": "86cdd3fa-5b7b-4440-ef71-49d1163ade66"
      },
      "execution_count": 29,
      "outputs": [
        {
          "output_type": "stream",
          "name": "stdout",
          "text": [
            "['Bream' 'Parkki' 'Perch' 'Pike' 'Roach' 'Smelt' 'Whitefish']\n"
          ]
        }
      ]
    },
    {
      "cell_type": "code",
      "source": [
        "print(lr.coef_.shape, lr.intercept_.shape)"
      ],
      "metadata": {
        "colab": {
          "base_uri": "https://localhost:8080/"
        },
        "id": "tK8XAgAqzJLh",
        "outputId": "0b66477b-474b-461b-94ac-f77136818b93"
      },
      "execution_count": 33,
      "outputs": [
        {
          "output_type": "stream",
          "name": "stdout",
          "text": [
            "(7, 5) (7,)\n"
          ]
        }
      ]
    },
    {
      "cell_type": "markdown",
      "source": [
        "- 다중 분류는 소프트 맥스 함수를 사용하여 7개의 z값을 확률로 변환한다.\n",
        "- 소프트 맥수 함수: 여러 개의 선형 방정식의 출력값을 0~1사이로 압축하고 전체 합이 1이 되도록 만든다.\n",
        "- ![image.png](data:image/png;base64,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)"
      ],
      "metadata": {
        "id": "_Cw795Kv4-M6"
      }
    },
    {
      "cell_type": "code",
      "source": [
        "decision = lr.decision_function(test_scaled[:5]) #z값\n",
        "print(np.round(decision, decimals=2))"
      ],
      "metadata": {
        "colab": {
          "base_uri": "https://localhost:8080/"
        },
        "id": "zSgptAUm3TdS",
        "outputId": "0a19c76a-bf03-4fb8-c2be-4feb1b0291d4"
      },
      "execution_count": 34,
      "outputs": [
        {
          "output_type": "stream",
          "name": "stdout",
          "text": [
            "[[ -6.51   1.04   5.17  -2.76   3.34   0.35  -0.63]\n",
            " [-10.88   1.94   4.78  -2.42   2.99   7.84  -4.25]\n",
            " [ -4.34  -6.24   3.17   6.48   2.36   2.43  -3.87]\n",
            " [ -0.69   0.45   2.64  -1.21   3.26  -5.7    1.26]\n",
            " [ -6.4   -1.99   5.82  -0.13   3.5   -0.09  -0.7 ]]\n"
          ]
        }
      ]
    },
    {
      "cell_type": "code",
      "source": [
        "from scipy.special import softmax\n",
        "proba = softmax(decision, axis = 1) #각 행에 대해 소프트맥스 계산\n",
        "print(np.round(proba, decimals = 3))"
      ],
      "metadata": {
        "colab": {
          "base_uri": "https://localhost:8080/"
        },
        "id": "omRSEnenFlGb",
        "outputId": "670f8d53-e8e5-4458-b762-0dc180491c81"
      },
      "execution_count": 35,
      "outputs": [
        {
          "output_type": "stream",
          "name": "stdout",
          "text": [
            "[[0.    0.014 0.842 0.    0.135 0.007 0.003]\n",
            " [0.    0.003 0.044 0.    0.007 0.946 0.   ]\n",
            " [0.    0.    0.034 0.934 0.015 0.016 0.   ]\n",
            " [0.011 0.034 0.305 0.006 0.567 0.    0.076]\n",
            " [0.    0.    0.904 0.002 0.089 0.002 0.001]]\n"
          ]
        }
      ]
    },
    {
      "cell_type": "markdown",
      "source": [
        "- axis매개변수를 지정하지 않으면 배열 전체에 대해 소프트맥스를 계산한다."
      ],
      "metadata": {
        "id": "BxGLsC1LLFlG"
      }
    },
    {
      "cell_type": "markdown",
      "source": [
        "- 로지스틱 회귀는 회귀 모델이 아닌 분류 모델로, 선형 방정식을 사용한다.\n",
        "- 선형 회귀처럼 계산한 값을 그대로 출력하는 것이 아니라 로지스틱 회귀는 0~1사이로 압축한다.\n",
        "\n",
        "- 로지스틱 회귀 이진 분류에서는 하나의 선형 방정식을 훈련시켜 시그모이드 함수에 통과시켜서 0~1 사이의 값을 만든다.\n",
        "- 다중 분류일 경우 클래스 개수만큼 방정식을 훈련시켜, 방정식의 출력값을 소프트맥스 함수에 통과시켜서 전체 클래스에 대한 합이 항상 1이되도록 만든다."
      ],
      "metadata": {
        "id": "M3jAxdY9V36x"
      }
    }
  ]
}